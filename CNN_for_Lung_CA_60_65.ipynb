{
  "nbformat": 4,
  "nbformat_minor": 0,
  "metadata": {
    "colab": {
      "provenance": [],
      "authorship_tag": "ABX9TyM28OjiTWs2jtgbclYlgvU5",
      "include_colab_link": true
    },
    "kernelspec": {
      "name": "python3",
      "display_name": "Python 3"
    },
    "language_info": {
      "name": "python"
    },
    "accelerator": "GPU",
    "gpuClass": "standard"
  },
  "cells": [
    {
      "cell_type": "markdown",
      "metadata": {
        "id": "view-in-github",
        "colab_type": "text"
      },
      "source": [
        "<a href=\"https://colab.research.google.com/github/ebbilge/Lung-CA-CNN/blob/main/CNN_for_Lung_CA_60_65.ipynb\" target=\"_parent\"><img src=\"https://colab.research.google.com/assets/colab-badge.svg\" alt=\"Open In Colab\"/></a>"
      ]
    },
    {
      "cell_type": "code",
      "source": [
        "from google.colab import drive\n",
        "drive.mount('/content/drive')"
      ],
      "metadata": {
        "colab": {
          "base_uri": "https://localhost:8080/"
        },
        "id": "DSb_yApNZI-v",
        "outputId": "ffc9c4f1-c66f-444a-c3ae-326cd2151543"
      },
      "execution_count": null,
      "outputs": [
        {
          "output_type": "stream",
          "name": "stdout",
          "text": [
            "Mounted at /content/drive\n"
          ]
        }
      ]
    },
    {
      "cell_type": "code",
      "execution_count": null,
      "metadata": {
        "id": "YV1APdHiY2VP"
      },
      "outputs": [],
      "source": [
        "import os\n",
        "import zipfile\n",
        "import numpy as np\n",
        "import tensorflow as tf\n",
        "import keras\n",
        "\n",
        "from keras import layers\n",
        "from numpy import save\n",
        "from keras.optimizers import schedules"
      ]
    },
    {
      "cell_type": "code",
      "source": [
        "from scipy import ndimage\n",
        "\n",
        "#Reading preprocess and dicom scans\n",
        "def read_scan(path):\n",
        "    data = np.load(path)        \n",
        "    return data\n",
        "\n",
        "def normalize(volume):\n",
        "    #Normalize the volume(Can be optimize?)\n",
        "    min = -1000\n",
        "    max = 400\n",
        "    volume[volume < min] = min\n",
        "    volume[volume > max] = max\n",
        "    volume = (volume - min) / (max - min)\n",
        "    volume = volume.astype(\"float32\")\n",
        "    return volume\n",
        "\n",
        "\n",
        "def padding(img, dd):\n",
        "    #Padding scans that depth-size smaller than 200(Is this necessary? Research about it.)\n",
        "    \n",
        "    d = img.shape[0]\n",
        "    \n",
        "    a = (dd - d) // 2\n",
        "    aa = dd - a - d\n",
        "\n",
        "    img = np.pad(img, ((a,aa), (0,0), (0, 0)), 'constant')\n",
        "    return img\n",
        "\n",
        "def resize_volume(img):\n",
        "\n",
        "    # Set the desired depth\n",
        "    desired_depth = 200\n",
        "    desired_width = 128\n",
        "    desired_height = 128\n",
        "\n",
        "    # Get current depth\n",
        "    current_depth = img.shape[0]\n",
        "    current_width = img.shape[1]\n",
        "    current_height = img.shape[2]\n",
        "\n",
        "    # Compute depth factor\n",
        "    depth = current_depth / desired_depth\n",
        "    width = current_width / desired_width\n",
        "    height = current_height / desired_height\n",
        "    depth_factor = 1 / depth\n",
        "    width_factor = 1 / width\n",
        "    height_factor = 1 / height\n",
        "    \n",
        "    # Rotate\n",
        "    img = ndimage.rotate(img, 90, reshape=False)\n",
        "    \n",
        "    # Resize across z-axis\n",
        "    img = ndimage.zoom(img, (depth_factor, width_factor, height_factor), order=1)\n",
        "    return img\n",
        "\n",
        "\n",
        "def process_scan(path):\n",
        "    \n",
        "    volume = read_scan(path)\n",
        "    volume = normalize(volume)\n",
        "    if(volume.shape[0]<200):\n",
        "        volume = padding(volume,200)\n",
        "    volume = resize_volume(volume)\n",
        "\n",
        "    #Is reshaping necessary?\n",
        "\n",
        "    return volume\n"
      ],
      "metadata": {
        "id": "XvUf0huYbUDS"
      },
      "execution_count": null,
      "outputs": []
    },
    {
      "cell_type": "code",
      "source": [
        "#Reading train scans from paths\n",
        "train_adeno_scan_paths = [\n",
        "    os.path.join(os.getcwd(), \"/content/drive/MyDrive/hu_scans_128/train_adeno\", x)\n",
        "    for x in os.listdir(\"/content/drive/MyDrive/hu_scans_128/train_adeno\")\n",
        "]\n",
        "\n",
        "train_scc_scan_paths = [\n",
        "    os.path.join(os.getcwd(), \"/content/drive/MyDrive/hu_scans_128/train_scc\", x)\n",
        "    for x in os.listdir(\"/content/drive/MyDrive/hu_scans_128/train_scc\")\n",
        "]\n",
        "\n",
        "#Reading validation scans from paths\n",
        "val_adeno_scan_paths = [\n",
        "    os.path.join(os.getcwd(), \"/content/drive/MyDrive/hu_scans_128/val_adeno\", x)\n",
        "    for x in os.listdir(\"/content/drive/MyDrive/hu_scans_128/val_adeno\")\n",
        "]\n",
        "\n",
        "val_scc_scan_paths = [\n",
        "    os.path.join(os.getcwd(), \"/content/drive/MyDrive/hu_scans_128/val_scc\", x)\n",
        "    for x in os.listdir(\"/content/drive/MyDrive/hu_scans_128/val_scc\")\n",
        "]\n",
        "\n",
        "\n",
        "print(\"CT scans with adeno lung tissue: \" + str(len(train_adeno_scan_paths )+len(val_adeno_scan_paths)))\n",
        "print(\"CT scans with scc lung tissue: \" + str(len(train_scc_scan_paths)+len(val_scc_scan_paths)))\n"
      ],
      "metadata": {
        "colab": {
          "base_uri": "https://localhost:8080/"
        },
        "id": "g5IZ538Wbg9n",
        "outputId": "16857df1-90f2-47b9-b6e8-1c21b670345f"
      },
      "execution_count": null,
      "outputs": [
        {
          "output_type": "stream",
          "name": "stdout",
          "text": [
            "CT scans with adeno lung tissue: 45\n",
            "CT scans with scc lung tissue: 38\n"
          ]
        }
      ]
    },
    {
      "cell_type": "code",
      "source": [
        "\n",
        "train_adeno_scans = np.array([process_scan(path) for path in train_adeno_scan_paths])\n",
        "train_scc_scans = np.array([process_scan(path) for path in train_scc_scan_paths])\n",
        "#train_normal_scans = np.array([process_scan(path) for path in train_normal_scan_paths])\n",
        "\n",
        "val_adeno_scans = np.array([process_scan(path) for path in val_adeno_scan_paths])\n",
        "val_scc_scans = np.array([process_scan(path) for path in val_scc_scan_paths])\n",
        "#val_normal_scans = np.array([process_scan(path) for path in val_normal_scan_paths])\n",
        "\n",
        "\n",
        "train_adeno_labels = np.array([0 for _ in range(len(train_adeno_scans))])\n",
        "train_scc_labels = np.array([1 for _ in range(len(train_scc_scans))])\n",
        "#train_normal_labels = np.array([0 for _ in range(len(train_normal_scans))])\n",
        "\n",
        "val_adeno_labels = np.array([0 for _ in range(len(val_adeno_scans))])\n",
        "val_scc_labels = np.array([1 for _ in range(len(val_scc_scans))])\n",
        "#val_normal_labels = np.array([0 for _ in range(len(val_normal_scans))])\n",
        "\n"
      ],
      "metadata": {
        "id": "a2aiS89YZn3j"
      },
      "execution_count": null,
      "outputs": []
    },
    {
      "cell_type": "code",
      "source": [
        "test_adeno_scan_paths = [\n",
        "    os.path.join(os.getcwd(), \"/content/drive/MyDrive/test_adeno\", x)\n",
        "    for x in os.listdir(\"/content/drive/MyDrive/test_adeno\")\n",
        "]\n",
        "\n",
        "test_scc_scan_paths = [\n",
        "    os.path.join(os.getcwd(), \"/content/drive/MyDrive/test_scc\", x)\n",
        "    for x in os.listdir(\"/content/drive/MyDrive/test_scc\")\n",
        "]\n",
        "test_adeno_scans = np.array([process_scan(path) for path in test_adeno_scan_paths])\n",
        "test_scc_scans = np.array([process_scan(path) for path in test_scc_scan_paths])\n",
        "\n",
        "test_adeno_labels = np.array([0 for _ in range(len(test_adeno_scans))])\n",
        "test_scc_labels = np.array([1 for _ in range(len(test_scc_scans))])"
      ],
      "metadata": {
        "id": "rDWF2ALeW_2e"
      },
      "execution_count": null,
      "outputs": []
    },
    {
      "cell_type": "code",
      "source": [
        "\n",
        "x_train = np.concatenate((train_adeno_scans,train_scc_scans), axis=0)\n",
        "#x_train = np.concatenate((x_train,train_normal_scans), axis=0)\n",
        "y_train = np.concatenate((train_adeno_labels,train_scc_labels), axis=0)\n",
        "#y_train = np.concatenate((y_train,train_normal_labels), axis=0)\n",
        "\n",
        "x_val = np.concatenate((val_adeno_scans,val_scc_scans), axis=0)\n",
        "#x_val = np.concatenate((x_train,val_normal_scans), axis=0)\n",
        "\n",
        "y_val = np.concatenate((val_adeno_labels,val_scc_labels), axis=0)\n",
        "#y_val = np.concatenate((y_train,val_normal_labels), axis=0)\n",
        "print(\n",
        "    \"Number of samples in train and validation are %d and %d.\"\n",
        "    % (x_train.shape[0], x_val.shape[0])\n",
        ")"
      ],
      "metadata": {
        "colab": {
          "base_uri": "https://localhost:8080/"
        },
        "id": "6i7blx0uc8cG",
        "outputId": "569d3905-4f29-4eb3-a4a5-f97235e17301"
      },
      "execution_count": null,
      "outputs": [
        {
          "output_type": "stream",
          "name": "stdout",
          "text": [
            "Number of samples in train and validation are 63 and 20.\n"
          ]
        }
      ]
    },
    {
      "cell_type": "code",
      "source": [
        "import random\n",
        "\n",
        "from scipy import ndimage\n",
        "\n",
        "\n",
        "@tf.function\n",
        "def rotate(volume):\n",
        "    \"\"\"Rotate the volume by a few degrees\"\"\"\n",
        "\n",
        "    def scipy_rotate(volume):\n",
        "        # define some rotation angles\n",
        "        angles = [-20, -10, -5, 5, 10, 20]\n",
        "        # pick angles at random\n",
        "        angle = random.choice(angles)\n",
        "        # rotate volume\n",
        "        volume = ndimage.rotate(volume, angle, reshape=False)\n",
        "        volume[volume < 0] = 0\n",
        "        volume[volume > 1] = 1\n",
        "        return volume\n",
        "\n",
        "    augmented_volume = tf.numpy_function(scipy_rotate, [volume], tf.float32)\n",
        "    return augmented_volume\n",
        "\n",
        "\n",
        "def train_preprocessing(volume, label):\n",
        "    \"\"\"Process training data by rotating and adding a channel.\"\"\"\n",
        "    # Rotate volume\n",
        "    volume = rotate(volume)\n",
        "    volume = tf.expand_dims(volume, axis=3)\n",
        "    return volume, label\n",
        "\n",
        "\n",
        "def validation_preprocessing(volume, label):\n",
        "    \"\"\"Process validation data by only adding a channel.\"\"\"\n",
        "    volume = tf.expand_dims(volume, axis=3)\n",
        "    return volume, label\n"
      ],
      "metadata": {
        "id": "SKYAvZ5VddRD"
      },
      "execution_count": null,
      "outputs": []
    },
    {
      "cell_type": "code",
      "source": [
        "train_loader = tf.data.Dataset.from_tensor_slices((x_train, y_train))\n",
        "validation_loader = tf.data.Dataset.from_tensor_slices((x_val, y_val))\n",
        "\n",
        "batch_size = 2\n",
        "# Augment the on the fly during training.\n",
        "train_dataset = (\n",
        "    train_loader.shuffle(len(x_train))\n",
        "    .map(train_preprocessing)\n",
        "    .batch(batch_size)\n",
        "    .prefetch(2)\n",
        ")\n",
        "# Only rescale.\n",
        "validation_dataset = (\n",
        "    validation_loader.shuffle(len(x_val))\n",
        "    .map(validation_preprocessing)\n",
        "    .batch(batch_size)\n",
        "    .prefetch(2)\n",
        ")"
      ],
      "metadata": {
        "id": "wAHFWJ1mdiXm"
      },
      "execution_count": null,
      "outputs": []
    },
    {
      "cell_type": "code",
      "source": [
        "def get_model(depth=200, width=128, height=128):\n",
        "    \n",
        "    inputs = keras.Input((depth, width, height, 1))\n",
        "\n",
        "    x = layers.Conv3D(filters=64, kernel_size=3, activation=\"relu\")(inputs)\n",
        "    x = layers.MaxPool3D(pool_size=2)(x)\n",
        "    x = layers.BatchNormalization()(x)\n",
        "\n",
        "    x = layers.Conv3D(filters=64, kernel_size=3, activation=\"relu\")(x)\n",
        "    x = layers.MaxPool3D(pool_size=2)(x)\n",
        "    x = layers.BatchNormalization()(x)\n",
        "\n",
        "    x = layers.Conv3D(filters=128, kernel_size=3, activation=\"relu\")(x)\n",
        "    x = layers.MaxPool3D(pool_size=2)(x)\n",
        "    x = layers.BatchNormalization()(x)\n",
        "\n",
        "    \n",
        "    x = layers.Conv3D(filters=256, kernel_size=3, activation=\"relu\")(x)\n",
        "    x = layers.MaxPool3D(pool_size=2)(x)\n",
        "    x = layers.BatchNormalization()(x)\n",
        "\n",
        "\n",
        "    x = layers.GlobalAveragePooling3D()(x)\n",
        "    x = layers.Dense(units=512, activation=\"relu\")(x)\n",
        "    x = layers.Dropout(0.3)(x)\n",
        "\n",
        "\n",
        "    outputs = layers.Dense(units=1, activation=\"sigmoid\")(x)\n",
        "\n",
        "\n",
        "    model = keras.Model(inputs, outputs, name=\"3Dcnn\")\n",
        "    return model\n",
        "\n",
        "\n",
        "model = get_model(depth=200,width=128, height=128)\n",
        "model.summary()\n"
      ],
      "metadata": {
        "colab": {
          "base_uri": "https://localhost:8080/"
        },
        "id": "SvquRPogdlNc",
        "outputId": "c95d4ac2-4dfb-4ff2-9934-90719f173e58"
      },
      "execution_count": null,
      "outputs": [
        {
          "output_type": "stream",
          "name": "stdout",
          "text": [
            "Model: \"3Dcnn\"\n",
            "_________________________________________________________________\n",
            " Layer (type)                Output Shape              Param #   \n",
            "=================================================================\n",
            " input_1 (InputLayer)        [(None, 200, 128, 128, 1  0         \n",
            "                             )]                                  \n",
            "                                                                 \n",
            " conv3d (Conv3D)             (None, 198, 126, 126, 64  1792      \n",
            "                             )                                   \n",
            "                                                                 \n",
            " max_pooling3d (MaxPooling3D  (None, 99, 63, 63, 64)   0         \n",
            " )                                                               \n",
            "                                                                 \n",
            " batch_normalization (BatchN  (None, 99, 63, 63, 64)   256       \n",
            " ormalization)                                                   \n",
            "                                                                 \n",
            " conv3d_1 (Conv3D)           (None, 97, 61, 61, 64)    110656    \n",
            "                                                                 \n",
            " max_pooling3d_1 (MaxPooling  (None, 48, 30, 30, 64)   0         \n",
            " 3D)                                                             \n",
            "                                                                 \n",
            " batch_normalization_1 (Batc  (None, 48, 30, 30, 64)   256       \n",
            " hNormalization)                                                 \n",
            "                                                                 \n",
            " conv3d_2 (Conv3D)           (None, 46, 28, 28, 128)   221312    \n",
            "                                                                 \n",
            " max_pooling3d_2 (MaxPooling  (None, 23, 14, 14, 128)  0         \n",
            " 3D)                                                             \n",
            "                                                                 \n",
            " batch_normalization_2 (Batc  (None, 23, 14, 14, 128)  512       \n",
            " hNormalization)                                                 \n",
            "                                                                 \n",
            " conv3d_3 (Conv3D)           (None, 21, 12, 12, 256)   884992    \n",
            "                                                                 \n",
            " max_pooling3d_3 (MaxPooling  (None, 10, 6, 6, 256)    0         \n",
            " 3D)                                                             \n",
            "                                                                 \n",
            " batch_normalization_3 (Batc  (None, 10, 6, 6, 256)    1024      \n",
            " hNormalization)                                                 \n",
            "                                                                 \n",
            " global_average_pooling3d (G  (None, 256)              0         \n",
            " lobalAveragePooling3D)                                          \n",
            "                                                                 \n",
            " dense (Dense)               (None, 512)               131584    \n",
            "                                                                 \n",
            " dropout (Dropout)           (None, 512)               0         \n",
            "                                                                 \n",
            " dense_1 (Dense)             (None, 1)                 513       \n",
            "                                                                 \n",
            "=================================================================\n",
            "Total params: 1,352,897\n",
            "Trainable params: 1,351,873\n",
            "Non-trainable params: 1,024\n",
            "_________________________________________________________________\n"
          ]
        }
      ]
    },
    {
      "cell_type": "code",
      "source": [
        "initial_learning_rate = 0.0001\n",
        "lr_schedule = tf.keras.optimizers.schedules.ExponentialDecay(\n",
        "    initial_learning_rate, decay_steps=100000, decay_rate=0.96, staircase=True\n",
        ")\n",
        "model.compile(\n",
        "    loss=\"binary_crossentropy\",\n",
        "    optimizer=keras.optimizers.Adam(learning_rate=lr_schedule),\n",
        "    metrics=[\"acc\"],\n",
        ")\n",
        "\n",
        "# Define callbacks.\n",
        "checkpoint_cb = keras.callbacks.ModelCheckpoint(\n",
        "    \"3d_image_classification3.h5\", save_best_only=True\n",
        ")\n",
        "early_stopping_cb = keras.callbacks.EarlyStopping(monitor=\"val_acc\", patience=20)\n",
        "\n",
        "# Train the model, doing validation at the end of each epoch\n",
        "epochs = 80\n",
        "model.fit(\n",
        "    train_dataset,\n",
        "    validation_data=validation_dataset,\n",
        "    epochs=epochs,\n",
        "    shuffle=True,\n",
        "    verbose=2,\n",
        "    callbacks=[checkpoint_cb, early_stopping_cb],\n",
        ")"
      ],
      "metadata": {
        "colab": {
          "base_uri": "https://localhost:8080/"
        },
        "id": "tgObvlsddsOV",
        "outputId": "e9bed29c-bba4-4903-f51a-91ff73d9d151"
      },
      "execution_count": null,
      "outputs": [
        {
          "output_type": "stream",
          "name": "stdout",
          "text": [
            "Epoch 1/80\n",
            "32/32 - 48s - loss: 0.7193 - acc: 0.5397 - val_loss: 0.7229 - val_acc: 0.5500 - 48s/epoch - 2s/step\n",
            "Epoch 2/80\n",
            "32/32 - 35s - loss: 0.6943 - acc: 0.5873 - val_loss: 0.7973 - val_acc: 0.5500 - 35s/epoch - 1s/step\n",
            "Epoch 3/80\n",
            "32/32 - 35s - loss: 0.6944 - acc: 0.4762 - val_loss: 1.0712 - val_acc: 0.5500 - 35s/epoch - 1s/step\n",
            "Epoch 4/80\n",
            "32/32 - 35s - loss: 0.7062 - acc: 0.5079 - val_loss: 0.9890 - val_acc: 0.5500 - 35s/epoch - 1s/step\n",
            "Epoch 5/80\n",
            "32/32 - 35s - loss: 0.6874 - acc: 0.5714 - val_loss: 0.9016 - val_acc: 0.5500 - 35s/epoch - 1s/step\n",
            "Epoch 6/80\n",
            "32/32 - 35s - loss: 0.6949 - acc: 0.5079 - val_loss: 0.9430 - val_acc: 0.5500 - 35s/epoch - 1s/step\n",
            "Epoch 7/80\n",
            "32/32 - 35s - loss: 0.6973 - acc: 0.5556 - val_loss: 0.7077 - val_acc: 0.5500 - 35s/epoch - 1s/step\n",
            "Epoch 8/80\n",
            "32/32 - 35s - loss: 0.6792 - acc: 0.5714 - val_loss: 0.7058 - val_acc: 0.5500 - 35s/epoch - 1s/step\n",
            "Epoch 9/80\n",
            "32/32 - 35s - loss: 0.6539 - acc: 0.6667 - val_loss: 0.9623 - val_acc: 0.5500 - 35s/epoch - 1s/step\n",
            "Epoch 10/80\n",
            "32/32 - 35s - loss: 0.7037 - acc: 0.5079 - val_loss: 0.8029 - val_acc: 0.5500 - 35s/epoch - 1s/step\n",
            "Epoch 11/80\n",
            "32/32 - 35s - loss: 0.6940 - acc: 0.5238 - val_loss: 0.8327 - val_acc: 0.5500 - 35s/epoch - 1s/step\n",
            "Epoch 12/80\n",
            "32/32 - 35s - loss: 0.6690 - acc: 0.6508 - val_loss: 0.7527 - val_acc: 0.5500 - 35s/epoch - 1s/step\n",
            "Epoch 13/80\n",
            "32/32 - 34s - loss: 0.6540 - acc: 0.6349 - val_loss: 0.7780 - val_acc: 0.5500 - 34s/epoch - 1s/step\n",
            "Epoch 14/80\n",
            "32/32 - 35s - loss: 0.7056 - acc: 0.5079 - val_loss: 0.7927 - val_acc: 0.5500 - 35s/epoch - 1s/step\n",
            "Epoch 15/80\n",
            "32/32 - 35s - loss: 0.6569 - acc: 0.6349 - val_loss: 0.7835 - val_acc: 0.5500 - 35s/epoch - 1s/step\n",
            "Epoch 16/80\n",
            "32/32 - 35s - loss: 0.6492 - acc: 0.6190 - val_loss: 0.8216 - val_acc: 0.5500 - 35s/epoch - 1s/step\n"
          ]
        },
        {
          "output_type": "execute_result",
          "data": {
            "text/plain": [
              "<keras.callbacks.History at 0x7f65c01147c0>"
            ]
          },
          "metadata": {},
          "execution_count": 11
        }
      ]
    },
    {
      "cell_type": "code",
      "source": [
        "import matplotlib.pyplot as plt\n",
        "fig, ax = plt.subplots(1, 2, figsize=(20, 3))\n",
        "ax = ax.ravel()\n",
        "\n",
        "for i, metric in enumerate([\"acc\", \"loss\"]):\n",
        "    ax[i].plot(model.history.history[metric])\n",
        "    ax[i].plot(model.history.history[\"val_\" + metric])\n",
        "    ax[i].set_title(\"Model {}\".format(metric))\n",
        "    ax[i].set_xlabel(\"epochs\")\n",
        "    ax[i].set_ylabel(metric)\n",
        "    ax[i].legend([\"train\", \"val\"])"
      ],
      "metadata": {
        "colab": {
          "base_uri": "https://localhost:8080/",
          "height": 241
        },
        "id": "rMP4O6oYjkbW",
        "outputId": "4f062aa5-0688-4332-ad0a-01be428ee69f"
      },
      "execution_count": null,
      "outputs": [
        {
          "output_type": "display_data",
          "data": {
            "text/plain": [
              "<Figure size 1440x216 with 2 Axes>"
            ],
            "image/png": "[encoded data removed]"
          },
          "metadata": {
            "needs_background": "light"
          }
        }
      ]
    },
    {
      "cell_type": "code",
      "source": [
        "model.load_weights(\"3d_image_classification3.h5\")\n",
        "for i in range(11):\n",
        "  prediction = model.predict(np.expand_dims(test_adeno_scans[i], axis=0))[0]\n",
        "  scores = [1 - prediction[0], prediction[0]]\n",
        "  \n",
        "  class_names = [\"adeno\", \"scc\"]\n",
        "  for score, name in zip(scores, class_names):\n",
        "    print(\n",
        "      \"This model is %.2f percent confident that CT scan is %s\"\n",
        "      % ((100 * score), name)\n",
        "    )"
      ],
      "metadata": {
        "colab": {
          "base_uri": "https://localhost:8080/"
        },
        "id": "W42icq0aop4r",
        "outputId": "2aefb27a-ae9c-4b16-c485-8f1c12d1ba95"
      },
      "execution_count": null,
      "outputs": [
        {
          "output_type": "stream",
          "name": "stdout",
          "text": [
            "1/1 [==============================] - 0s 21ms/step\n",
            "This model is 63.72 percent confident that CT scan is adeno\n",
            "This model is 36.28 percent confident that CT scan is scc\n",
            "1/1 [==============================] - 0s 24ms/step\n",
            "This model is 63.53 percent confident that CT scan is adeno\n",
            "This model is 36.47 percent confident that CT scan is scc\n",
            "1/1 [==============================] - 0s 21ms/step\n",
            "This model is 63.27 percent confident that CT scan is adeno\n",
            "This model is 36.73 percent confident that CT scan is scc\n",
            "1/1 [==============================] - 0s 22ms/step\n",
            "This model is 64.13 percent confident that CT scan is adeno\n",
            "This model is 35.87 percent confident that CT scan is scc\n",
            "1/1 [==============================] - 0s 23ms/step\n",
            "This model is 65.54 percent confident that CT scan is adeno\n",
            "This model is 34.46 percent confident that CT scan is scc\n",
            "1/1 [==============================] - 0s 21ms/step\n",
            "This model is 64.87 percent confident that CT scan is adeno\n",
            "This model is 35.13 percent confident that CT scan is scc\n",
            "1/1 [==============================] - 0s 23ms/step\n",
            "This model is 63.62 percent confident that CT scan is adeno\n",
            "This model is 36.38 percent confident that CT scan is scc\n",
            "1/1 [==============================] - 0s 21ms/step\n",
            "This model is 62.37 percent confident that CT scan is adeno\n",
            "This model is 37.63 percent confident that CT scan is scc\n",
            "1/1 [==============================] - 0s 22ms/step\n",
            "This model is 63.26 percent confident that CT scan is adeno\n",
            "This model is 36.74 percent confident that CT scan is scc\n",
            "1/1 [==============================] - 0s 21ms/step\n",
            "This model is 63.47 percent confident that CT scan is adeno\n",
            "This model is 36.53 percent confident that CT scan is scc\n",
            "1/1 [==============================] - 0s 24ms/step\n",
            "This model is 64.03 percent confident that CT scan is adeno\n",
            "This model is 35.97 percent confident that CT scan is scc\n"
          ]
        }
      ]
    },
    {
      "cell_type": "code",
      "source": [
        "model.load_weights(\"3d_image_classification3.h5\")\n",
        "for i in range(9):\n",
        "  prediction = model.predict(np.expand_dims(test_scc_scans[i], axis=0))[0]\n",
        "  scores = [prediction[0],1 - prediction[0]]\n",
        "  \n",
        "  class_names = [\"adeno\", \"scc\"]\n",
        "  for score, name in zip(scores, class_names):\n",
        "    print(\n",
        "      \"This model is %.2f percent confident that CT scan is %s\"\n",
        "      % ((100 * score), name)\n",
        "    )"
      ],
      "metadata": {
        "colab": {
          "base_uri": "https://localhost:8080/"
        },
        "id": "mAIyY117rDZO",
        "outputId": "2aa1a8f7-4973-4d9f-9da8-c20fa590827e"
      },
      "execution_count": null,
      "outputs": [
        {
          "output_type": "stream",
          "name": "stdout",
          "text": [
            "1/1 [==============================] - 0s 24ms/step\n",
            "This model is 39.20 percent confident that CT scan is adeno\n",
            "This model is 60.80 percent confident that CT scan is scc\n",
            "1/1 [==============================] - 0s 22ms/step\n",
            "This model is 35.71 percent confident that CT scan is adeno\n",
            "This model is 64.29 percent confident that CT scan is scc\n",
            "1/1 [==============================] - 0s 23ms/step\n",
            "This model is 36.30 percent confident that CT scan is adeno\n",
            "This model is 63.70 percent confident that CT scan is scc\n",
            "1/1 [==============================] - 0s 21ms/step\n",
            "This model is 36.86 percent confident that CT scan is adeno\n",
            "This model is 63.14 percent confident that CT scan is scc\n",
            "1/1 [==============================] - 0s 20ms/step\n",
            "This model is 35.78 percent confident that CT scan is adeno\n",
            "This model is 64.22 percent confident that CT scan is scc\n",
            "1/1 [==============================] - 0s 24ms/step\n",
            "This model is 36.33 percent confident that CT scan is adeno\n",
            "This model is 63.67 percent confident that CT scan is scc\n",
            "1/1 [==============================] - 0s 22ms/step\n",
            "This model is 38.09 percent confident that CT scan is adeno\n",
            "This model is 61.91 percent confident that CT scan is scc\n",
            "1/1 [==============================] - 0s 24ms/step\n",
            "This model is 37.04 percent confident that CT scan is adeno\n",
            "This model is 62.96 percent confident that CT scan is scc\n",
            "1/1 [==============================] - 0s 23ms/step\n",
            "This model is 36.53 percent confident that CT scan is adeno\n",
            "This model is 63.47 percent confident that CT scan is scc\n"
          ]
        }
      ]
    }
  ]
}