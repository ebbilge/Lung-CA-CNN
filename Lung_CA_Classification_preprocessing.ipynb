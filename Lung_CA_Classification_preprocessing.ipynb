{
  "nbformat": 4,
  "nbformat_minor": 0,
  "metadata": {
    "colab": {
      "provenance": [],
      "authorship_tag": "ABX9TyOoo0ITK7USwXrK726gmX8V",
      "include_colab_link": true
    },
    "kernelspec": {
      "name": "python3",
      "display_name": "Python 3"
    },
    "language_info": {
      "name": "python"
    }
  },
  "cells": [
    {
      "cell_type": "markdown",
      "metadata": {
        "id": "view-in-github",
        "colab_type": "text"
      },
      "source": [
        "<a href=\"https://colab.research.google.com/github/ebbilge/Lung-CA-CNN/blob/main/Lung_CA_Classification_preprocessing.ipynb\" target=\"_parent\"><img src=\"https://colab.research.google.com/assets/colab-badge.svg\" alt=\"Open In Colab\"/></a>"
      ]
    },
    {
      "cell_type": "code",
      "source": [
        "from google.colab import drive\n",
        "drive.mount('/content/drive')"
      ],
      "metadata": {
        "colab": {
          "base_uri": "https://localhost:8080/"
        },
        "id": "cZcE97Dgsz11",
        "outputId": "deb9c46d-a5fa-44b5-e232-3c38a77da934"
      },
      "execution_count": null,
      "outputs": [
        {
          "output_type": "stream",
          "name": "stdout",
          "text": [
            "Mounted at /content/drive\n"
          ]
        }
      ]
    },
    {
      "cell_type": "code",
      "execution_count": null,
      "metadata": {
        "colab": {
          "base_uri": "https://localhost:8080/"
        },
        "id": "slIs4JxYsvbg",
        "outputId": "a175c03f-334b-45ea-99dd-9022ffdab8b6"
      },
      "outputs": [
        {
          "output_type": "stream",
          "name": "stdout",
          "text": [
            "Looking in indexes: https://pypi.org/simple, https://us-python.pkg.dev/colab-wheels/public/simple/\n",
            "Collecting python-gdcm\n",
            "  Downloading python_gdcm-3.0.21-cp38-cp38-manylinux_2_17_x86_64.manylinux2014_x86_64.whl (13.0 MB)\n",
            "\u001b[2K     \u001b[90m━━━━━━━━━━━━━━━━━━━━━━━━━━━━━━━━━━━━━━━━\u001b[0m \u001b[32m13.0/13.0 MB\u001b[0m \u001b[31m23.4 MB/s\u001b[0m eta \u001b[36m0:00:00\u001b[0m\n",
            "\u001b[?25hInstalling collected packages: python-gdcm\n",
            "Successfully installed python-gdcm-3.0.21\n"
          ]
        }
      ],
      "source": [
        "!pip install python-gdcm"
      ]
    },
    {
      "cell_type": "code",
      "source": [
        "!pip install pydicom"
      ],
      "metadata": {
        "colab": {
          "base_uri": "https://localhost:8080/"
        },
        "id": "H5ffxPdxs6TR",
        "outputId": "55c9b0cc-f313-44fa-f291-af138b5766d7"
      },
      "execution_count": null,
      "outputs": [
        {
          "output_type": "stream",
          "name": "stdout",
          "text": [
            "Looking in indexes: https://pypi.org/simple, https://us-python.pkg.dev/colab-wheels/public/simple/\n",
            "Collecting pydicom\n",
            "  Downloading pydicom-2.3.1-py3-none-any.whl (2.0 MB)\n",
            "\u001b[2K     \u001b[90m━━━━━━━━━━━━━━━━━━━━━━━━━━━━━━━━━━━━━━━━\u001b[0m \u001b[32m2.0/2.0 MB\u001b[0m \u001b[31m30.9 MB/s\u001b[0m eta \u001b[36m0:00:00\u001b[0m\n",
            "\u001b[?25hInstalling collected packages: pydicom\n",
            "Successfully installed pydicom-2.3.1\n"
          ]
        }
      ]
    },
    {
      "cell_type": "code",
      "source": [
        "import numpy as np \n",
        "import pandas as pd \n",
        "import matplotlib.pyplot as plt\n",
        "import seaborn as sns\n",
        "import os\n",
        "\n",
        "import pydicom\n",
        "import scipy.ndimage\n",
        "import gdcm\n",
        "\n",
        "import glob\n",
        "\n",
        "from skimage import measure \n",
        "from mpl_toolkits.mplot3d.art3d import Poly3DCollection\n",
        "from skimage.morphology import disk, opening, closing\n",
        "from tqdm import tqdm\n",
        "from pathlib import Path\n",
        "from IPython.display import HTML\n",
        "from PIL import Image\n",
        "\n",
        "import warnings\n",
        "warnings.filterwarnings(\"ignore\", category=DeprecationWarning)\n",
        "warnings.filterwarnings(\"ignore\", category=UserWarning)\n",
        "warnings.filterwarnings(\"ignore\", category=FutureWarning)\n",
        "\n",
        "from os import listdir, mkdir"
      ],
      "metadata": {
        "id": "F6FlbAdytCm0"
      },
      "execution_count": null,
      "outputs": []
    },
    {
      "cell_type": "code",
      "source": [
        "def load_scan(path):\n",
        "\n",
        "  dir_path = path\n",
        "  slices = []\n",
        "  count=0\n",
        "  for root, _, filenames in os.walk(dir_path):\n",
        "    for filename in filenames:\n",
        "      dcm_path = Path(root, filename)\n",
        "      if dcm_path.suffix == \".dcm\":\n",
        "        try:\n",
        "          dicom = pydicom.dcmread(dcm_path, force=True)\n",
        "        except IOError as e:\n",
        "          print(f\"Can't import {dcm_path.stem}\")\n",
        "        else:\n",
        "          slices.append(dicom)\n",
        "          count+=1\n",
        "    \n",
        "    slices.sort(key = lambda x: float(x.ImagePositionPatient[2]))\n",
        "        \n",
        "  return slices, count"
      ],
      "metadata": {
        "id": "ag6k7FmdtKgT"
      },
      "execution_count": null,
      "outputs": []
    },
    {
      "cell_type": "code",
      "source": [
        "def set_outside_scanner_to_air(raw_pixelarrays):\n",
        "    raw_pixelarrays[raw_pixelarrays <= -1000] = 0\n",
        "    return raw_pixelarrays"
      ],
      "metadata": {
        "id": "tF0HtSWVyNXH"
      },
      "execution_count": null,
      "outputs": []
    },
    {
      "cell_type": "code",
      "source": [
        "def transform_to_hu(slices):\n",
        "    images = np.stack([file.pixel_array for file in slices])\n",
        "    images = images.astype(np.int16)\n",
        "\n",
        "    images = set_outside_scanner_to_air(images)\n",
        "    \n",
        "    # convert to HU\n",
        "    for n in range(len(slices)):\n",
        "        \n",
        "        intercept = slices[n].RescaleIntercept\n",
        "        slope = slices[n].RescaleSlope\n",
        "        \n",
        "        if slope != 1:\n",
        "            images[n] = slope * images[n].astype(np.float64)\n",
        "            images[n] = images[n].astype(np.int16)\n",
        "            \n",
        "        images[n] += np.int16(intercept)\n",
        "    \n",
        "    return np.array(images, dtype=np.int16)"
      ],
      "metadata": {
        "id": "uZbtG_dtyRJk"
      },
      "execution_count": null,
      "outputs": []
    },
    {
      "cell_type": "code",
      "source": [
        "def preprocess_to_hu_scans(scan_properties, my_shape, output_dir):\n",
        "    for i in range(5):\n",
        "        pth = scan_properties.loc[i].patient_pth\n",
        "        scans, count = load_scan(pth)\n",
        "        print(i, count)\n",
        "        hu_scans = transform_to_hu(scans) \n",
        "        prepared_scans = np.zeros((hu_scans.shape[0], my_shape[0], my_shape[1]), dtype=np.int16)\n",
        "        hu_scans = hu_scans.astype(np.int32)\n",
        "        for s in range(hu_scans.shape[0]): \n",
        "          prepared_scans[s] = resize_scan(hu_scans[s,:,:], my_shape)\n",
        "\n",
        "        \n",
        "        np.save(output_dir + \"/\" + str(i) + '_hu_scans_512', prepared_scans)"
      ],
      "metadata": {
        "id": "xdOgu_yM0wbh"
      },
      "execution_count": null,
      "outputs": []
    },
    {
      "cell_type": "code",
      "source": [
        "base_path = \"/content/drive/MyDrive/data/val\"\n",
        "train_path = base_path + \"/normal\""
      ],
      "metadata": {
        "id": "knNqgZ1bMJqG"
      },
      "execution_count": null,
      "outputs": []
    },
    {
      "cell_type": "code",
      "source": [
        "path = []\n",
        "train_data = []\n",
        "scan = []\n",
        "for filenames in sorted(os.listdir(train_path)):\n",
        "  if filenames!= \".DS_Store\":\n",
        "    path.append(train_path + \"/\" + filenames)"
      ],
      "metadata": {
        "id": "Ld5MPz5-wQgO"
      },
      "execution_count": null,
      "outputs": []
    },
    {
      "cell_type": "code",
      "source": [
        "def get_window_value(feature):\n",
        "    if type(feature) == pydicom.multival.MultiValue:\n",
        "        return np.int(feature[0])\n",
        "    else:\n",
        "        return np.int(feature)\n",
        "\n",
        "pixelspacing_r = []\n",
        "pixelspacing_c = []\n",
        "slice_thicknesses = []\n",
        "patient_id = []\n",
        "patient_pth = []\n",
        "row_values = []\n",
        "column_values = []\n",
        "window_widths = []\n",
        "window_levels = []\n",
        "name = []\n",
        "slice_number = []\n",
        "\n",
        "\n",
        "\n",
        "for patient in range(5):\n",
        "    patient_id.append(patient+1)\n",
        "    pathx = path[patient]\n",
        "    example_dcm = listdir(pathx)[0]\n",
        "    patient_pth.append(pathx)\n",
        "    dataset = pydicom.dcmread(pathx + \"/\" + example_dcm)\n",
        "    \n",
        "    window_widths.append(get_window_value(dataset.WindowWidth))\n",
        "    window_levels.append(get_window_value(dataset.WindowCenter))\n",
        "    \n",
        "    spacing = dataset.PixelSpacing\n",
        "    slice_thicknesses.append(dataset.SliceThickness)\n",
        "    \n",
        "    name.append(dataset.PatientName)\n",
        "    \n",
        "    \n",
        "    row_values.append(dataset.Rows)\n",
        "    column_values.append(dataset.Columns)\n",
        "    pixelspacing_r.append(spacing[0])\n",
        "    pixelspacing_c.append(spacing[1])\n",
        "    \n",
        "scan_properties = pd.DataFrame(data=patient_id, columns=[\"patient\"])\n",
        "scan_properties.loc[:, \"rows\"] = row_values\n",
        "scan_properties.loc[:, \"columns\"] = column_values\n",
        "scan_properties.loc[:, \"area\"] = scan_properties[\"rows\"] * scan_properties[\"columns\"]\n",
        "scan_properties.loc[:, \"pixelspacing_r\"] = pixelspacing_r\n",
        "scan_properties.loc[:, \"pixelspacing_c\"] = pixelspacing_c\n",
        "scan_properties.loc[:, \"pixelspacing_area\"] = scan_properties.pixelspacing_r * scan_properties.pixelspacing_c\n",
        "scan_properties.loc[:, \"slice_thickness\"] = slice_thicknesses\n",
        "scan_properties.loc[:, \"patient_pth\"] = patient_pth\n",
        "scan_properties.loc[:, \"window_width\"] = window_widths\n",
        "scan_properties.loc[:, \"window_level\"] = window_levels\n",
        "scan_properties.loc[:, \"name\"] = name\n",
        "scan_properties.head()\n",
        "scan_properties.to_csv(\"val_normal_512.csv\")"
      ],
      "metadata": {
        "id": "0qm47lfpywv1"
      },
      "execution_count": null,
      "outputs": []
    },
    {
      "cell_type": "markdown",
      "source": [],
      "metadata": {
        "id": "k2Yx1cW74LYX"
      }
    },
    {
      "cell_type": "code",
      "source": [
        "def resize_scan(scan, new_shape):\n",
        "    # read slice as 32 bit signed integers\n",
        "    img = Image.fromarray(scan, mode=\"I\")\n",
        "    # do the resizing\n",
        "    img = img.resize(new_shape, resample=Image.LANCZOS)\n",
        "    # convert back to 16 bit integers\n",
        "    resized_scan = np.array(img, dtype=np.int16)\n",
        "    return resized_scan"
      ],
      "metadata": {
        "id": "3TBUJtM-2Nz-"
      },
      "execution_count": null,
      "outputs": []
    },
    {
      "cell_type": "code",
      "source": [
        "output_dir = \"/content/drive/MyDrive/val_normal_512\"\n",
        "mkdir(output_dir)\n",
        "my_shape = (512,512)\n",
        "preprocess_to_hu_scans(scan_properties, my_shape, output_dir)"
      ],
      "metadata": {
        "id": "AFd5QC07062r",
        "colab": {
          "base_uri": "https://localhost:8080/"
        },
        "outputId": "93131595-7d3c-4b93-ee55-0d0b61a4eaaf"
      },
      "execution_count": null,
      "outputs": [
        {
          "output_type": "stream",
          "name": "stdout",
          "text": [
            "0 386\n",
            "1 487\n",
            "2 237\n",
            "3 485\n",
            "4 249\n"
          ]
        }
      ]
    }
  ]
}